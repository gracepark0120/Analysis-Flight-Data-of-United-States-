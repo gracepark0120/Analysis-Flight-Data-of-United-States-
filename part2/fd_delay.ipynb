{
 "cells": [
  {
   "cell_type": "code",
   "execution_count": 76,
   "metadata": {},
   "outputs": [
    {
     "data": {
      "text/plain": [
       "'\\nTODO List:\\n[] Find the same flight schedule and see if they are similarly delayed\\n[] Arrange delayed flights and delayed time by arrival/departure hub\\n'"
      ]
     },
     "execution_count": 76,
     "metadata": {},
     "output_type": "execute_result"
    }
   ],
   "source": [
    "\"\"\"\n",
    "TODO List:\n",
    "[] Arrange delayed flights and delayed time by arrival/departure hub\n",
    "\"\"\""
   ]
  },
  {
   "cell_type": "code",
   "execution_count": 2,
   "metadata": {},
   "outputs": [],
   "source": [
    "from pyspark.sql.functions import udf\n",
    "from pyspark.sql.types import IntegerType, StringType\n",
    "from datetime import datetime\n",
    "\n",
    "def convert_seconds(seconds):\n",
    "    seconds = seconds % (24 * 3600)\n",
    "    hour = seconds // 3600\n",
    "    seconds %= 3600\n",
    "    minutes = seconds // 60\n",
    "    seconds %= 60\n",
    "    if hour != 0:\n",
    "        return \"%d hours %d minutes %d seconds\" % (hour, minutes, seconds)\n",
    "    elif minutes != 0:\n",
    "        return \"%d minutes %d seconds\" % (minutes, seconds)\n",
    "    else:\n",
    "        return \"%d seconds\" % (seconds)\n",
    "\n",
    "# determine if delayed or not\n",
    "@udf(returnType = StringType())\n",
    "def determine_delay(estimated_time, actual_time):\n",
    "    if int(estimated_time[8:10]) == int(actual_time[8:10]):\n",
    "        estimated_time_sec = int(estimated_time[11:13]) * 3600 + int(estimated_time[14:16]) * 60 + int(estimated_time[17:19])\n",
    "        actual_time_sec = int(actual_time[11:13]) * 3600 + int(actual_time[14:16]) * 60 + int(actual_time[17:19])\n",
    "        if estimated_time_sec >= actual_time_sec:\n",
    "            delay = 'NO'\n",
    "        else: \n",
    "            delay = 'YES'\n",
    "    elif int(estimated_time[8:10]) > int(actual_time[8:10]): # early \n",
    "        delay = 'NO'\n",
    "    else: \n",
    "        delay = 'YES'\n",
    "\n",
    "    return delay\n",
    "\n",
    "# calculate delayed time(sec)\n",
    "@udf(returnType = StringType())\n",
    "def calculate_delay(estimated_time, actual_time):\n",
    "    estimated_time_sec = int(estimated_time[11:13]) * 3600 + int(estimated_time[14:16]) * 60 + int(estimated_time[17:19])\n",
    "    actual_time_sec = int(actual_time[11:13]) * 3600 + int(actual_time[14:16]) * 60 + int(actual_time[17:19])\n",
    "    if int(estimated_time[8:10]) == int(actual_time[8:10]):\n",
    "        pass\n",
    "    elif int(estimated_time[8:10]) > int(actual_time[8:10]): \n",
    "        estimated_time_sec += 24 * 3600\n",
    "    else : \n",
    "        actual_time_sec += 24 * 3600\n",
    "    delay_time = abs(estimated_time_sec - actual_time_sec)\n",
    "    return convert_seconds(delay_time)\n",
    "\n",
    "@udf(returnType = StringType())\n",
    "def modify_time(time):\n",
    "    year = str(int(time[0:4]) - 2000)\n",
    "    month = time[5:7]\n",
    "    day = time[8:10]\n",
    "    hour = time[11:13]\n",
    "    day_night = \"AM\"\n",
    "    if (int(hour) > 12):\n",
    "        hour = hour - 12\n",
    "        day_night = \"PM\"\n",
    "    return month + \"/\" + day + \"/\" + year + \" \" + hour + time[13:19] + \" \" + day_night"
   ]
  },
  {
   "cell_type": "code",
   "execution_count": 4,
   "metadata": {},
   "outputs": [
    {
     "name": "stderr",
     "output_type": "stream",
     "text": [
      "[Stage 5:=============================>                             (1 + 1) / 2]\r"
     ]
    },
    {
     "name": "stdout",
     "output_type": "stream",
     "text": [
      "+-------------+-------+---------------+-----------------+--------------------+----------------------+--------------------+-----+--------------------+\n",
      "|Flight Number|Airline|Arrival Airport|Departure Airport|      Departure Time|Estimated Arrival Time| Actual Arrival Time|Delay|        Delayed Time|\n",
      "+-------------+-------+---------------+-----------------+--------------------+----------------------+--------------------+-----+--------------------+\n",
      "|      AAL2308|    AAL|            ORD|              LAX|10/22/22 08:30:00 AM|  10/22/22 11:42:24 AM|10/22/22 11:43:19 AM|  YES|          55 seconds|\n",
      "|       DAL850|    DAL|            RDU|              LAS|10/22/22 05:55:00 AM|  10/22/22 09:18:16 AM|10/22/22 09:23:20 AM|  YES| 5 minutes 4 seconds|\n",
      "|       DAL881|    DAL|            CVG|              LAX|10/22/22 07:38:00 AM|  10/22/22 10:49:08 AM|10/22/22 10:58:54 AM|  YES|9 minutes 46 seconds|\n",
      "|      ROU1850|    ROU|            YUL|              LAS|10/22/22 06:49:56 AM|  10/22/22 10:58:35 AM|10/22/22 11:01:04 AM|  YES|2 minutes 29 seconds|\n",
      "|       UAL221|    UAL|            MCO|              SFO|10/22/22 07:06:00 AM|  10/22/22 11:25:53 AM|10/22/22 11:29:22 AM|  YES|3 minutes 29 seconds|\n",
      "|       UAL221|    UAL|            MCO|              SFO|10/22/22 07:06:00 AM|  10/22/22 11:26:02 AM|10/22/22 11:29:22 AM|  YES|3 minutes 20 seconds|\n",
      "|      FFT1104|    FFT|            MCO|              LAS|10/22/22 08:34:30 AM|  10/22/22 12:01:46 AM|10/22/22 12:11:39 AM|  YES|9 minutes 53 seconds|\n",
      "|       DAL881|    DAL|            CVG|              LAX|10/22/22 07:38:00 AM|  10/22/22 10:49:03 AM|10/22/22 10:58:54 AM|  YES|9 minutes 51 seconds|\n",
      "|       DAL881|    DAL|            CVG|              LAX|10/22/22 07:38:00 AM|  10/22/22 10:49:00 AM|10/22/22 10:58:54 AM|  YES|9 minutes 54 seconds|\n",
      "|      ROU1850|    ROU|            YUL|              LAS|10/22/22 06:49:56 AM|  10/22/22 10:58:37 AM|10/22/22 11:01:04 AM|  YES|2 minutes 27 seconds|\n",
      "+-------------+-------+---------------+-----------------+--------------------+----------------------+--------------------+-----+--------------------+\n",
      "only showing top 10 rows\n",
      "\n"
     ]
    },
    {
     "name": "stderr",
     "output_type": "stream",
     "text": [
      "                                                                                \r"
     ]
    }
   ],
   "source": [
    "from pyspark.sql import SparkSession\n",
    "from pyspark.sql.functions import UserDefinedFunction\n",
    "from pyspark.sql.types import StringType,IntegerType\n",
    "from pyspark.sql.functions import collect_list,split,regexp_replace,col,round,concat,lit,avg,when,length\n",
    "spark = SparkSession.builder.master(\"local[*]\").appName('flight-data').getOrCreate()\n",
    "# for all jsonl file\n",
    "\n",
    "for i in range(0,1):\n",
    "    if i >= 100:\n",
    "        file_name = str(i)\n",
    "    elif i >= 10:\n",
    "        file_idx = '0' + str(i)\n",
    "    else :\n",
    "        file_idx = '00' + str(i)\n",
    "    file_loc = '/home/ubuntu/cs179g_project/part1/flights/flights_' + file_idx +'.jsonl'\n",
    "\n",
    "    flight_data = spark.read.format(\"json\").options(inferschema = 'true',header = 'true').load(file_loc)\n",
    "    flight_data = flight_data.select('@acid', '@airline', '@arrArpt', '@depArpt',\\\n",
    "                                    'fdm:trackInformation.nxcm:ncsmTrackData.nxcm:departureFixAndTime.@arrTime',\\\n",
    "                                    'fdm:trackInformation.nxcm:ncsmTrackData.nxcm:eta.@timeValue',\\\n",
    "                                    'fdm:trackInformation.nxcm:ncsmTrackData.nxcm:arrivalFixAndTime.@arrTime')\n",
    "\n",
    "\n",
    "    # renames the table columns\n",
    "    new_column_names = [\"Flight Number\", \"Airline\", \"Arrival Airport\", \"Departure Airport\", \"Departure Time\", \"Estimated Arrival Time\", \"Actual Arrival Time\"]\n",
    "    flight_data = flight_data.toDF(*new_column_names)\n",
    "    # removing invalid departure and arrival times, null values\n",
    "    flight_data = flight_data.na.drop()\n",
    "    # removes placeholder letter in front of airport code, if it exists and delete duplicates\n",
    "    flight_data = flight_data.withColumn('Arrival Airport', when(length(col('Arrival Airport')) == 4, col('Arrival Airport').substr(2,3))\\\n",
    "                            .otherwise(col('Arrival Airport')))\\\n",
    "                            .withColumn('Departure Airport', when(length(col('Departure Airport')) == 4, col('Departure Airport').substr(2,3))\\\n",
    "                            .otherwise(col('Departure Airport'))).distinct()\n",
    "\n",
    "    flight_data = flight_data.withColumn('Delay', lit(determine_delay(col('Estimated Arrival Time'), col('Actual Arrival Time'))))\n",
    "    fd = flight_data.withColumn('Delayed Time', lit(calculate_delay(col('Estimated Arrival Time'), col('Actual Arrival Time'))))\n",
    "\n",
    "    fd = fd.withColumn('Departure Time', modify_time(col('Departure Time')))\n",
    "    fd = fd.withColumn('Estimated Arrival Time', modify_time(col('Estimated Arrival Time')))\n",
    "    fd = fd.withColumn('Actual Arrival Time', modify_time(col('Actual Arrival Time')))\n",
    "    \n",
    "    if i == 0:\n",
    "        delayed_flight = fd.filter(fd.Delay == \"YES\")\n",
    "\n",
    "    # combine every delayed flight of jsonl files\n",
    "    delayed_flight = delayed_flight.union(fd.filter(fd.Delay == \"YES\"))\n",
    "    \n",
    "    # print(str(i)+\".jsonl finished\")\n",
    "delayed_flight.show(10)\n"
   ]
  }
 ],
 "metadata": {
  "kernelspec": {
   "display_name": "Python 3.10.6 ('cs179g_venv': venv)",
   "language": "python",
   "name": "python3"
  },
  "language_info": {
   "codemirror_mode": {
    "name": "ipython",
    "version": 3
   },
   "file_extension": ".py",
   "mimetype": "text/x-python",
   "name": "python",
   "nbconvert_exporter": "python",
   "pygments_lexer": "ipython3",
   "version": "3.10.6"
  },
  "orig_nbformat": 4,
  "vscode": {
   "interpreter": {
    "hash": "3c08378ad6c07d120a4d4245f9b267779e1ab3289002ceb568db038a6234fccb"
   }
  }
 },
 "nbformat": 4,
 "nbformat_minor": 2
}
